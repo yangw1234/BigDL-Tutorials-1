{
 "cells": [
  {
   "cell_type": "code",
   "execution_count": 1,
   "metadata": {
    "collapsed": true
   },
   "outputs": [],
   "source": [
    "import tensorflow as tf\n",
    "import numpy as np\n",
    "from tensorflow.examples.tutorials.mnist import input_data"
   ]
  },
  {
   "cell_type": "code",
   "execution_count": 2,
   "metadata": {
    "collapsed": false
   },
   "outputs": [
    {
     "name": "stdout",
     "output_type": "stream",
     "text": [
      "Extracting /home/yang/datasets/mnist/train-images-idx3-ubyte.gz\n",
      "Extracting /home/yang/datasets/mnist/train-labels-idx1-ubyte.gz\n",
      "Extracting /home/yang/datasets/mnist/t10k-images-idx3-ubyte.gz\n",
      "Extracting /home/yang/datasets/mnist/t10k-labels-idx1-ubyte.gz\n"
     ]
    }
   ],
   "source": [
    "def init_weights(shape):\n",
    "    return tf.Variable(tf.random_normal(shape, stddev=0.01))\n",
    "\n",
    "def model(X, w_h, w_o):\n",
    "    h = tf.nn.sigmoid(tf.matmul(X, w_h)) # this is a basic mlp, think 2 stacked logistic regressions\n",
    "    return tf.matmul(h, w_o) # note that we dont take the softmax at the end because our cost fn does that for us\n",
    "\n",
    "mnist = input_data.read_data_sets(\"/home/yang/datasets/mnist\", one_hot=False)\n",
    "trX, trY, teX, teY = mnist.train.images, mnist.train.labels, mnist.test.images, mnist.test.labels"
   ]
  },
  {
   "cell_type": "code",
   "execution_count": 3,
   "metadata": {
    "collapsed": false
   },
   "outputs": [],
   "source": [
    "X = tf.placeholder(\"float\", [None, 784])\n",
    "Y = tf.placeholder(\"float\", [None, 10])\n",
    "\n",
    "w_h = init_weights([784, 625]) # create symbolic variables\n",
    "w_o = init_weights([625, 10])\n",
    "\n",
    "py_x = model(X, w_h, w_o)\n",
    "\n",
    "cost = tf.reduce_mean(tf.nn.softmax_cross_entropy_with_logits(logits=py_x, labels=Y)) # compute costs\n",
    "train_op = tf.train.GradientDescentOptimizer(0.05).minimize(cost) # construct an optimizer\n",
    "predict_op = tf.argmax(py_x, 1)"
   ]
  },
  {
   "cell_type": "code",
   "execution_count": 4,
   "metadata": {
    "collapsed": true
   },
   "outputs": [],
   "source": [
    "# # Launch the graph in a session\n",
    "# with tf.Session() as sess:\n",
    "#     # you need to initialize all variables\n",
    "#     tf.global_variables_initializer().run()\n",
    "\n",
    "#     for i in range(100):\n",
    "#         for start, end in zip(range(0, len(trX), 128), range(128, len(trX)+1, 128)):\n",
    "#             sess.run(train_op, feed_dict={X: trX[start:end], Y: trY[start:end]})\n",
    "#         print(i, np.mean(np.argmax(teY, axis=1) ==\n",
    "#                          sess.run(predict_op, feed_dict={X: teX})))"
   ]
  },
  {
   "cell_type": "code",
   "execution_count": 5,
   "metadata": {
    "collapsed": false
   },
   "outputs": [
    {
     "name": "stdout",
     "output_type": "stream",
     "text": [
      "creating: createAdam\n",
      "creating: createCrossEntropyCriterion\n",
      "creating: createMaxEpoch\n",
      "INFO:tensorflow:Froze 2 variables.\n"
     ]
    },
    {
     "name": "stderr",
     "output_type": "stream",
     "text": [
      "INFO:tensorflow:Froze 2 variables.\n"
     ]
    },
    {
     "name": "stdout",
     "output_type": "stream",
     "text": [
      "Converted 2 variables to const ops.\n",
      "predition: 7, ground truth: 7\n"
     ]
    }
   ],
   "source": [
    "from bigdl.util.common import *\n",
    "from bigdl.nn.layer import *\n",
    "from bigdl.nn.criterion import *\n",
    "from bigdl.optim.optimizer import *\n",
    "from bigdl.util.tf_utils import *\n",
    "\n",
    "opt_method = Adam(learningrate=0.001)\n",
    "criterion = CrossEntropyCriterion()\n",
    "\n",
    "data = trX\n",
    "label = trY + 1\n",
    "    \n",
    "init_engine()\n",
    "\n",
    "model = Model.train(py_x, data, label, opt_method=opt_method, criterion=criterion, batch_size=128, end_when=MaxEpoch(10))\n",
    "\n",
    "prediction = np.argmax(model.forward(teX[0]))\n",
    "\n",
    "print \"predition: %s, ground truth: %s\" % (prediction, teY[0])"
   ]
  },
  {
   "cell_type": "code",
   "execution_count": 6,
   "metadata": {
    "collapsed": false
   },
   "outputs": [
    {
     "name": "stdout",
     "output_type": "stream",
     "text": [
      "Populating the interactive namespace from numpy and matplotlib\n"
     ]
    },
    {
     "name": "stderr",
     "output_type": "stream",
     "text": [
      "WARNING: pylab import has clobbered these variables: ['Normalize']\n",
      "`%matplotlib` prevents importing * from pylab and numpy\n"
     ]
    },
    {
     "data": {
      "text/plain": [
       "<matplotlib.image.AxesImage at 0x7f16891ff1d0>"
      ]
     },
     "execution_count": 6,
     "metadata": {},
     "output_type": "execute_result"
    },
    {
     "data": {
      "image/png": "[encoded data removed]",
      "text/plain": [
       "<matplotlib.figure.Figure at 0x7f1695be5d10>"
      ]
     },
     "metadata": {},
     "output_type": "display_data"
    }
   ],
   "source": [
    "%pylab inline\n",
    "imshow(teX[0].reshape(28, 28), cmap=\"gray\")"
   ]
  },
  {
   "cell_type": "code",
   "execution_count": null,
   "metadata": {
    "collapsed": true
   },
   "outputs": [],
   "source": []
  }
 ],
 "metadata": {
  "kernelspec": {
   "display_name": "Python 2",
   "language": "python",
   "name": "python2"
  },
  "language_info": {
   "codemirror_mode": {
    "name": "ipython",
    "version": 2
   },
   "file_extension": ".py",
   "mimetype": "text/x-python",
   "name": "python",
   "nbconvert_exporter": "python",
   "pygments_lexer": "ipython2",
   "version": "2.7.12"
  }
 },
 "nbformat": 4,
 "nbformat_minor": 0
}
