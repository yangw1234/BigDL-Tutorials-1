{
 "cells": [
  {
   "cell_type": "code",
   "execution_count": 13,
   "metadata": {
    "ExecuteTime": {
     "end_time": "2018-04-03T13:35:56.282828Z",
     "start_time": "2018-04-03T13:35:56.278588Z"
    }
   },
   "outputs": [],
   "source": [
    "# NOTE: export SPARK_DRIVER_MEMORY=1g"
   ]
  },
  {
   "cell_type": "code",
   "execution_count": 14,
   "metadata": {},
   "outputs": [],
   "source": [
    "import keras\n",
    "from keras.applications import ResNet50\n",
    "from keras.applications import imagenet_utils"
   ]
  },
  {
   "cell_type": "markdown",
   "metadata": {},
   "source": [
    "* For resnet, we only support NCHW and Keras 1.2.2 for now"
   ]
  },
  {
   "cell_type": "code",
   "execution_count": 15,
   "metadata": {},
   "outputs": [],
   "source": [
    "keras.backend.set_image_dim_ordering(\"th\")"
   ]
  },
  {
   "cell_type": "markdown",
   "metadata": {},
   "source": [
    "* Create ResNet50 using Keras"
   ]
  },
  {
   "cell_type": "code",
   "execution_count": null,
   "metadata": {},
   "outputs": [
    {
     "name": "stdout",
     "output_type": "stream",
     "text": [
      "Downloading data from https://github.com/fchollet/deep-learning-models/releases/download/v0.2/resnet50_weights_th_dim_ordering_th_kernels.h5\n"
     ]
    }
   ],
   "source": [
    "keras_model = ResNet50(weights=\"imagenet\")"
   ]
  },
  {
   "cell_type": "markdown",
   "metadata": {},
   "source": [
    "* Init BigDL and spark environment"
   ]
  },
  {
   "cell_type": "code",
   "execution_count": null,
   "metadata": {},
   "outputs": [],
   "source": [
    "from bigdl.keras.backend import *\n",
    "from bigdl.transform.vision.image import *\n",
    "\n",
    "redire_spark_logs()\n",
    "show_bigdl_info_logs()\n",
    "init_engine()\n",
    "sparkConf = create_spark_conf().setAppName(\"test model\")\n",
    "sc = get_spark_context(sparkConf)"
   ]
  },
  {
   "cell_type": "markdown",
   "metadata": {},
   "source": [
    "* Load a Keras definition and weights to BigDL."
   ]
  },
  {
   "cell_type": "code",
   "execution_count": null,
   "metadata": {},
   "outputs": [],
   "source": [
    "bmodel = DefinitionLoader.from_kmodel(keras_model)\n",
    "WeightLoader.load_weights_from_kmodel(bmodel, keras_model)"
   ]
  },
  {
   "cell_type": "markdown",
   "metadata": {},
   "source": [
    "* Load data into ImageFrame"
   ]
  },
  {
   "cell_type": "code",
   "execution_count": null,
   "metadata": {},
   "outputs": [],
   "source": [
    "image_frame = ImageFrame.read(\"image-net\", sc=sc)"
   ]
  },
  {
   "cell_type": "markdown",
   "metadata": {},
   "source": [
    "* Define prepocess transformer"
   ]
  },
  {
   "cell_type": "code",
   "execution_count": null,
   "metadata": {},
   "outputs": [],
   "source": [
    "transformer = Pipeline([BytesToMat(), Resize(256, 256),\n",
    "                        CenterCrop(224, 224),\n",
    "                        ChannelNormalize(123.68, 103.939, 116.779),\n",
    "                        MatToTensor(), ImageFrameToSample()])"
   ]
  },
  {
   "cell_type": "markdown",
   "metadata": {},
   "source": [
    "* Run prediction"
   ]
  },
  {
   "cell_type": "code",
   "execution_count": null,
   "metadata": {
    "ExecuteTime": {
     "end_time": "2018-04-03T10:14:49.401336Z",
     "start_time": "2018-04-03T10:14:24.584480Z"
    }
   },
   "outputs": [],
   "source": [
    "preds_frame = bmodel.predict_image(image_frame.transform(transformer))"
   ]
  },
  {
   "cell_type": "markdown",
   "metadata": {},
   "source": [
    "* Show result of the first image"
   ]
  },
  {
   "cell_type": "code",
   "execution_count": null,
   "metadata": {
    "ExecuteTime": {
     "end_time": "2018-04-03T10:14:53.330368Z",
     "start_time": "2018-04-03T10:14:49.404042Z"
    }
   },
   "outputs": [],
   "source": [
    "preds = preds_frame.get_predict().take(1)\n",
    "\n",
    "for pre in preds:\n",
    "    path, pre_score = pre\n",
    "    P = imagenet_utils.decode_predictions(np.expand_dims(pre_score, axis=0))\n",
    "    print(\"Prediction for {}\".format(path))\n",
    "    # Display the top-5 prediction\n",
    "    for (i, (imagenetID, label, prob)) in enumerate(P[0]):\n",
    "        print(\"    {}. {}: {:.2f}%\".format(i + 1, label, prob * 100))"
   ]
  },
  {
   "cell_type": "markdown",
   "metadata": {},
   "source": [
    "* While the origin image is\n",
    "![scalars](image-net/158516268_796c3e047d.jpg)"
   ]
  },
  {
   "cell_type": "code",
   "execution_count": null,
   "metadata": {},
   "outputs": [],
   "source": []
  }
 ],
 "metadata": {
  "kernelspec": {
   "display_name": "Python 2",
   "language": "python",
   "name": "python2"
  },
  "language_info": {
   "codemirror_mode": {
    "name": "ipython",
    "version": 2
   },
   "file_extension": ".py",
   "mimetype": "text/x-python",
   "name": "python",
   "nbconvert_exporter": "python",
   "pygments_lexer": "ipython2",
   "version": "2.7.14"
  },
  "toc": {
   "base_numbering": 1,
   "nav_menu": {},
   "number_sections": true,
   "sideBar": true,
   "skip_h1_title": false,
   "title_cell": "Table of Contents",
   "title_sidebar": "Contents",
   "toc_cell": false,
   "toc_position": {
    "height": "calc(100% - 180px)",
    "left": "10px",
    "top": "150px",
    "width": "256px"
   },
   "toc_section_display": "block",
   "toc_window_display": true
  }
 },
 "nbformat": 4,
 "nbformat_minor": 1
}
